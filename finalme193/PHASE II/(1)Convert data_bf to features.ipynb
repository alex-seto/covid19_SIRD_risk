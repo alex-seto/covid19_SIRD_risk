{
 "cells": [
  {
   "cell_type": "markdown",
   "metadata": {},
   "source": [
    "# PHASE 2\n",
    "Takes the data_bf.csv from PHASE1A/B and produces data_2a.csv andf data_2b.csv"
   ]
  },
  {
   "cell_type": "code",
   "execution_count": 2,
   "metadata": {
    "colab": {},
    "colab_type": "code",
    "id": "nl-2nm3RypZb"
   },
   "outputs": [],
   "source": [
    "import pandas as pd\n",
    "import numpy as np\n",
    "import matplotlib.pyplot as plt\n",
    "from sklearn.model_selection import RandomizedSearchCV\n",
    "from scipy.stats import randint\n"
   ]
  },
  {
   "cell_type": "markdown",
   "metadata": {},
   "source": [
    "Here we import all relevant data."
   ]
  },
  {
   "cell_type": "code",
   "execution_count": 3,
   "metadata": {
    "colab": {},
    "colab_type": "code",
    "id": "hvjz9rC6nuAY"
   },
   "outputs": [],
   "source": [
    "covid19 = pd.read_csv('2_DATA/us-counties.csv')\n",
    "unemployment = pd.read_excel('2_DATA/Unemployment.xls', sheet_name=0, skiprows=(0,1,2,3))\n",
    "pov_est = pd.read_excel('2_DATA/PovertyEstimates.xls', sheet_name=0, skiprows=(0,1,2,3))\n",
    "pop_data = pd.read_csv('2_DATA/co-est2019-alldata.csv', encoding =\"ISO-8859-1\")\n",
    "pop_dens = pd.read_csv('2_DATA/census_county_interpolated.csv')"
   ]
  },
  {
   "cell_type": "markdown",
   "metadata": {},
   "source": [
    "This cell below refines many of our large data sets into the few columns used as features"
   ]
  },
  {
   "cell_type": "code",
   "execution_count": 4,
   "metadata": {
    "colab": {
     "base_uri": "https://localhost:8080/",
     "height": 194
    },
    "colab_type": "code",
    "id": "8E-uFdl7qfFu",
    "outputId": "51560fd4-a33b-477f-d0e9-b95fd4aa5729"
   },
   "outputs": [],
   "source": [
    "unemployment = unemployment[['FIPS', 'Unemployment_rate_2018', 'Median_Household_Income_2018', 'Med_HH_Income_Percent_of_State_Total_2018']]\n",
    "poverty = pov_est[['FIPStxt', 'PCTPOVALL_2018']]\n",
    "pop_dens = pop_dens[pop_dens['year'] == 2016]\n",
    "density = pop_dens[['fips', 'popdensity']]\n",
    "race = pop_dens[['fips', 'pct_blk', 'pct_asian', 'pct_native', 'pct_white']]"
   ]
  },
  {
   "cell_type": "markdown",
   "metadata": {},
   "source": [
    "This cell defines the make fips function which takes state and county codes and creates an FIPS code"
   ]
  },
  {
   "cell_type": "code",
   "execution_count": 5,
   "metadata": {
    "colab": {},
    "colab_type": "code",
    "id": "wJNgroUAo-wD"
   },
   "outputs": [],
   "source": [
    "def make_fips(state, county):\n",
    "  if (state < 10):\n",
    "    state_temp = \"0\"+ str(state)\n",
    "  else: \n",
    "    state_temp = str(state)\n",
    "  if (county < 10):\n",
    "    county_temp = \"00\" + str(county)\n",
    "  elif (county <= 99):\n",
    "    county_temp = \"0\" + str(county)\n",
    "  else:\n",
    "    county_temp = str(county)\n",
    "  temp = state_temp + county_temp\n",
    "  return int(temp)"
   ]
  },
  {
   "cell_type": "code",
   "execution_count": 6,
   "metadata": {
    "colab": {
     "base_uri": "https://localhost:8080/",
     "height": 194
    },
    "colab_type": "code",
    "id": "I6gib9t70Zqm",
    "outputId": "d115e714-759e-4a21-982b-a07ea825df9f"
   },
   "outputs": [],
   "source": [
    "pop_data['FIPS'] = [make_fips(int(row['STATE']), int(row['COUNTY'])) for index, row in pop_data.iterrows()]\n",
    "population = pop_data[['FIPS', 'POPESTIMATE2019', 'RBIRTH2019', 'RDEATH2019']]"
   ]
  },
  {
   "cell_type": "code",
   "execution_count": 7,
   "metadata": {
    "colab": {
     "base_uri": "https://localhost:8080/",
     "height": 214
    },
    "colab_type": "code",
    "id": "whlXD--d1NmM",
    "outputId": "051ccef3-d4df-4215-a23e-1dcb4f0a7652"
   },
   "outputs": [],
   "source": [
    "features = pd.merge(population, poverty, left_on='FIPS', right_on='FIPStxt')\n",
    "features.head()\n",
    "features = features.drop(['FIPStxt'], axis=1)\n",
    "features.head()\n",
    "features = pd.merge(features, unemployment, on='FIPS')\n",
    "features.head()\n",
    "features = pd.merge(features, density, left_on='FIPS', right_on='fips')\n",
    "features.head()\n",
    "features = pd.merge(features, race, on='fips')\n",
    "features = features.drop(['fips'], axis=1)\n"
   ]
  },
  {
   "cell_type": "code",
   "execution_count": 8,
   "metadata": {
    "colab": {},
    "colab_type": "code",
    "id": "GxK0o16OzEc0"
   },
   "outputs": [],
   "source": [
    "unique_fips = covid19['fips'].unique()"
   ]
  },
  {
   "cell_type": "markdown",
   "metadata": {},
   "source": [
    "#  Dealing with data from 1A"
   ]
  },
  {
   "cell_type": "code",
   "execution_count": 9,
   "metadata": {
    "colab": {
     "base_uri": "https://localhost:8080/",
     "height": 194
    },
    "colab_type": "code",
    "id": "AIZSju8o7fTu",
    "outputId": "1db16820-fbc4-4dc5-99b4-8197b948a6fb"
   },
   "outputs": [
    {
     "data": {
      "text/html": [
       "<div>\n",
       "<style scoped>\n",
       "    .dataframe tbody tr th:only-of-type {\n",
       "        vertical-align: middle;\n",
       "    }\n",
       "\n",
       "    .dataframe tbody tr th {\n",
       "        vertical-align: top;\n",
       "    }\n",
       "\n",
       "    .dataframe thead th {\n",
       "        text-align: right;\n",
       "    }\n",
       "</style>\n",
       "<table border=\"1\" class=\"dataframe\">\n",
       "  <thead>\n",
       "    <tr style=\"text-align: right;\">\n",
       "      <th></th>\n",
       "      <th>FIPS</th>\n",
       "      <th>beta</th>\n",
       "      <th>f</th>\n",
       "    </tr>\n",
       "  </thead>\n",
       "  <tbody>\n",
       "    <tr>\n",
       "      <th>0</th>\n",
       "      <td>1073.0</td>\n",
       "      <td>3.582561e-07</td>\n",
       "      <td>0.088171</td>\n",
       "    </tr>\n",
       "    <tr>\n",
       "      <th>1</th>\n",
       "      <td>1081.0</td>\n",
       "      <td>1.353718e-06</td>\n",
       "      <td>0.117474</td>\n",
       "    </tr>\n",
       "    <tr>\n",
       "      <th>2</th>\n",
       "      <td>1097.0</td>\n",
       "      <td>6.400933e-07</td>\n",
       "      <td>0.113277</td>\n",
       "    </tr>\n",
       "    <tr>\n",
       "      <th>3</th>\n",
       "      <td>4005.0</td>\n",
       "      <td>1.660785e-06</td>\n",
       "      <td>0.183262</td>\n",
       "    </tr>\n",
       "    <tr>\n",
       "      <th>4</th>\n",
       "      <td>4013.0</td>\n",
       "      <td>4.999949e-01</td>\n",
       "      <td>0.000007</td>\n",
       "    </tr>\n",
       "  </tbody>\n",
       "</table>\n",
       "</div>"
      ],
      "text/plain": [
       "     FIPS          beta         f\n",
       "0  1073.0  3.582561e-07  0.088171\n",
       "1  1081.0  1.353718e-06  0.117474\n",
       "2  1097.0  6.400933e-07  0.113277\n",
       "3  4005.0  1.660785e-06  0.183262\n",
       "4  4013.0  4.999949e-01  0.000007"
      ]
     },
     "execution_count": 9,
     "metadata": {},
     "output_type": "execute_result"
    }
   ],
   "source": [
    "bf_1a_data = pd.read_csv('2_DATA/data_1a_bf.csv')\n",
    "bf_1a_data = bf_1a_data.drop(['Unnamed: 0', 'Unnamed: 0.1', 'Unnamed: 0.1.1', 'POPESTIMATE2019'], axis=1)\n",
    "bf_1a_data = bf_1a_data[bf_1a_data['f'] > 0]\n",
    "bf_1a_data.head()"
   ]
  },
  {
   "cell_type": "markdown",
   "metadata": {},
   "source": [
    "EXPORT:"
   ]
  },
  {
   "cell_type": "code",
   "execution_count": 10,
   "metadata": {
    "colab": {
     "base_uri": "https://localhost:8080/",
     "height": 588
    },
    "colab_type": "code",
    "id": "tbR4dMRgHNzk",
    "outputId": "86524479-713c-4c5c-a484-602a4642ea57"
   },
   "outputs": [],
   "source": [
    "master_data = pd.merge(features, bf_1a_data, on='FIPS')\n",
    "master_data.to_csv('2_DATA/master_data_A.csv')"
   ]
  },
  {
   "cell_type": "markdown",
   "metadata": {},
   "source": [
    "# Dealing with data from 1B"
   ]
  },
  {
   "cell_type": "code",
   "execution_count": 12,
   "metadata": {},
   "outputs": [
    {
     "data": {
      "text/html": [
       "<div>\n",
       "<style scoped>\n",
       "    .dataframe tbody tr th:only-of-type {\n",
       "        vertical-align: middle;\n",
       "    }\n",
       "\n",
       "    .dataframe tbody tr th {\n",
       "        vertical-align: top;\n",
       "    }\n",
       "\n",
       "    .dataframe thead th {\n",
       "        text-align: right;\n",
       "    }\n",
       "</style>\n",
       "<table border=\"1\" class=\"dataframe\">\n",
       "  <thead>\n",
       "    <tr style=\"text-align: right;\">\n",
       "      <th></th>\n",
       "      <th>FIPS</th>\n",
       "      <th>beta</th>\n",
       "      <th>f</th>\n",
       "      <th>cost</th>\n",
       "    </tr>\n",
       "  </thead>\n",
       "  <tbody>\n",
       "    <tr>\n",
       "      <th>2</th>\n",
       "      <td>1007.0</td>\n",
       "      <td>6.365119e-06</td>\n",
       "      <td>0.000068</td>\n",
       "      <td>1.167641e-08</td>\n",
       "    </tr>\n",
       "    <tr>\n",
       "      <th>3</th>\n",
       "      <td>1009.0</td>\n",
       "      <td>5.777033e-07</td>\n",
       "      <td>0.002578</td>\n",
       "      <td>4.014245e-06</td>\n",
       "    </tr>\n",
       "    <tr>\n",
       "      <th>4</th>\n",
       "      <td>1011.0</td>\n",
       "      <td>7.401973e-06</td>\n",
       "      <td>0.000032</td>\n",
       "      <td>1.152826e-09</td>\n",
       "    </tr>\n",
       "    <tr>\n",
       "      <th>5</th>\n",
       "      <td>1013.0</td>\n",
       "      <td>2.200600e-06</td>\n",
       "      <td>0.000090</td>\n",
       "      <td>5.737434e-09</td>\n",
       "    </tr>\n",
       "    <tr>\n",
       "      <th>8</th>\n",
       "      <td>1019.0</td>\n",
       "      <td>1.177406e-05</td>\n",
       "      <td>0.000032</td>\n",
       "      <td>6.295205e-07</td>\n",
       "    </tr>\n",
       "    <tr>\n",
       "      <th>...</th>\n",
       "      <td>...</td>\n",
       "      <td>...</td>\n",
       "      <td>...</td>\n",
       "      <td>...</td>\n",
       "    </tr>\n",
       "    <tr>\n",
       "      <th>2191</th>\n",
       "      <td>56033.0</td>\n",
       "      <td>4.064746e-06</td>\n",
       "      <td>0.000946</td>\n",
       "      <td>1.516708e-05</td>\n",
       "    </tr>\n",
       "    <tr>\n",
       "      <th>2192</th>\n",
       "      <td>56035.0</td>\n",
       "      <td>9.304787e-08</td>\n",
       "      <td>0.000038</td>\n",
       "      <td>4.734482e-10</td>\n",
       "    </tr>\n",
       "    <tr>\n",
       "      <th>2193</th>\n",
       "      <td>56037.0</td>\n",
       "      <td>4.988492e-08</td>\n",
       "      <td>0.003144</td>\n",
       "      <td>3.877834e-06</td>\n",
       "    </tr>\n",
       "    <tr>\n",
       "      <th>2194</th>\n",
       "      <td>56039.0</td>\n",
       "      <td>5.710729e-06</td>\n",
       "      <td>0.000072</td>\n",
       "      <td>5.694819e-08</td>\n",
       "    </tr>\n",
       "    <tr>\n",
       "      <th>2195</th>\n",
       "      <td>56043.0</td>\n",
       "      <td>1.151223e-05</td>\n",
       "      <td>0.000068</td>\n",
       "      <td>6.469550e-09</td>\n",
       "    </tr>\n",
       "  </tbody>\n",
       "</table>\n",
       "<p>930 rows × 4 columns</p>\n",
       "</div>"
      ],
      "text/plain": [
       "         FIPS          beta         f          cost\n",
       "2      1007.0  6.365119e-06  0.000068  1.167641e-08\n",
       "3      1009.0  5.777033e-07  0.002578  4.014245e-06\n",
       "4      1011.0  7.401973e-06  0.000032  1.152826e-09\n",
       "5      1013.0  2.200600e-06  0.000090  5.737434e-09\n",
       "8      1019.0  1.177406e-05  0.000032  6.295205e-07\n",
       "...       ...           ...       ...           ...\n",
       "2191  56033.0  4.064746e-06  0.000946  1.516708e-05\n",
       "2192  56035.0  9.304787e-08  0.000038  4.734482e-10\n",
       "2193  56037.0  4.988492e-08  0.003144  3.877834e-06\n",
       "2194  56039.0  5.710729e-06  0.000072  5.694819e-08\n",
       "2195  56043.0  1.151223e-05  0.000068  6.469550e-09\n",
       "\n",
       "[930 rows x 4 columns]"
      ]
     },
     "execution_count": 12,
     "metadata": {},
     "output_type": "execute_result"
    }
   ],
   "source": [
    "bf_1b_data = pd.read_csv('2_DATA/data_1b_bf.csv')\n",
    "bf_1b_data = bf_1b_data[bf_1b_data.cost < .0001]\n",
    "bf_1b_data = bf_1b_data.drop(['Unnamed: 0', 'POPESTIMATE2019'], axis=1)\n",
    "bf_1b_data = bf_1b_data[bf_1b_data['f'] > 0]\n",
    "\n",
    "bf_1b_data"
   ]
  },
  {
   "cell_type": "markdown",
   "metadata": {},
   "source": [
    "EXPORT:"
   ]
  },
  {
   "cell_type": "code",
   "execution_count": 13,
   "metadata": {},
   "outputs": [],
   "source": [
    "master_data = pd.merge(features, bf_1b_data, on='FIPS')\n",
    "master_data = master_data.drop(['cost'], axis = 1)\n",
    "master_data.to_csv('2_DATA/master_data_B.csv')"
   ]
  },
  {
   "cell_type": "code",
   "execution_count": null,
   "metadata": {},
   "outputs": [],
   "source": []
  }
 ],
 "metadata": {
  "colab": {
   "collapsed_sections": [],
   "name": "FEATURES.ipynb",
   "provenance": []
  },
  "kernelspec": {
   "display_name": "Python 3",
   "language": "python",
   "name": "python3"
  },
  "language_info": {
   "codemirror_mode": {
    "name": "ipython",
    "version": 3
   },
   "file_extension": ".py",
   "mimetype": "text/x-python",
   "name": "python",
   "nbconvert_exporter": "python",
   "pygments_lexer": "ipython3",
   "version": "3.7.6"
  }
 },
 "nbformat": 4,
 "nbformat_minor": 1
}
