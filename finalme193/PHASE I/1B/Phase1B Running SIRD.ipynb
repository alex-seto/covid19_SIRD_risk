{
 "cells": [
  {
   "cell_type": "markdown",
   "metadata": {
    "colab_type": "text",
    "id": "IiELDfFwfxMI"
   },
   "source": [
    "**Welcome to our final project!**"
   ]
  },
  {
   "cell_type": "markdown",
   "metadata": {
    "colab_type": "text",
    "id": "4_YTh5Mrh0zQ"
   },
   "source": [
    "NYT COVID-19 data found here:\n",
    "https://github.com/nytimes/covid-19-data\n",
    "\n",
    "Poverty, Unemployment, Population data found here:\n",
    "https://www.ers.usda.gov/data-products/county-level-data-sets/download-data/"
   ]
  },
  {
   "cell_type": "code",
   "execution_count": 2,
   "metadata": {
    "colab": {},
    "colab_type": "code",
    "id": "XjNIg6Db63vD"
   },
   "outputs": [],
   "source": [
    "import numpy as np\n",
    "import pandas as pd\n",
    "import matplotlib.pyplot as plt"
   ]
  },
  {
   "cell_type": "markdown",
   "metadata": {
    "colab_type": "text",
    "id": "Zx-gb74lf2US"
   },
   "source": [
    "Importing NYT series data as covid19 and the population estimates by FIPS from phase 1A"
   ]
  },
  {
   "cell_type": "code",
   "execution_count": 3,
   "metadata": {
    "colab": {
     "base_uri": "https://localhost:8080/",
     "height": 204
    },
    "colab_type": "code",
    "id": "n0eOm7C8fvzP",
    "outputId": "b12df103-3ce6-4e62-df96-cf1c2427f84f"
   },
   "outputs": [],
   "source": [
    "covid19 = pd.read_csv('1B_DATA/us-counties.csv')"
   ]
  },
  {
   "cell_type": "code",
   "execution_count": 4,
   "metadata": {
    "colab": {},
    "colab_type": "code",
    "id": "nn6CDqmwA6x4"
   },
   "outputs": [],
   "source": [
    "pop_data = pd.read_csv('1B_DATA/phase1_popdata.csv')"
   ]
  },
  {
   "cell_type": "markdown",
   "metadata": {},
   "source": [
    "# DEFINE SIRD MODEL"
   ]
  },
  {
   "cell_type": "code",
   "execution_count": 5,
   "metadata": {},
   "outputs": [],
   "source": [
    "# def run_sird(population, b, g, f, numdays): \n",
    "def run_sird(population, b, f, numdays):\n",
    "    \n",
    "  # values \n",
    "  D0 = 0\n",
    "  I0 = 1\n",
    "  R0 = 0\n",
    "  S0 = population - I0 - D0 \n",
    "\n",
    "# A grid of time points (in days)\n",
    "  t = np.linspace(0, numdays, numdays + 1)\n",
    "\n",
    "  S = S0\n",
    "  I = I0\n",
    "  R = R0\n",
    "  D = D0\n",
    "\n",
    "  S_list = [S0]\n",
    "  I_list = [I0]\n",
    "  R_list = [R0]\n",
    "  D_list = [D0]\n",
    "\n",
    "  g = 1/14\n",
    "  for time in t[1:]:\n",
    "      dSdt = (-1.0 * b * S * I)\n",
    "      dIdt = (b * S * I) - (g * I)\n",
    "      dDdt = g * f * I\n",
    "      dRdt = ((1-f) * g * I)\n",
    "      if (S + dSdt < 0):\n",
    "            dSdt = -1 * S\n",
    "            dIdt = S - (g * I)\n",
    "      S = S + dSdt\n",
    "      I = I + dIdt\n",
    "      R = R + dRdt\n",
    "      D = D + dDdt\n",
    "      S_list.append(S)\n",
    "      I_list.append(I)\n",
    "      R_list.append(R)\n",
    "      D_list.append(D)\n",
    "  return S_list, I_list, R_list, D_list"
   ]
  },
  {
   "cell_type": "markdown",
   "metadata": {},
   "source": [
    "# DEFINING the objective function to be minimized"
   ]
  },
  {
   "cell_type": "code",
   "execution_count": 6,
   "metadata": {
    "colab": {},
    "colab_type": "code",
    "id": "uidVJJlwtOlY"
   },
   "outputs": [],
   "source": [
    "from sklearn.metrics import mean_squared_error\n",
    "\n",
    "# Note that this cost function is based solely on the death data \n",
    "\n",
    "def error_of_sim(deaths, D_test):\n",
    "    original = pd.DataFrame()\n",
    "    original['deaths'] = deaths\n",
    "    original['d_test'] = D_test\n",
    "    return mean_squared_error(original['deaths'], original['d_test'])\n",
    "\n"
   ]
  },
  {
   "cell_type": "code",
   "execution_count": 7,
   "metadata": {
    "colab": {},
    "colab_type": "code",
    "id": "6R8_M71bvBTl"
   },
   "outputs": [],
   "source": [
    "## Takes x = [initial beta, initial g, initial f], args = (temp_col[deaths], population, temP-col['cases'])\n",
    "\n",
    "\n",
    "#Using this for PSO\n",
    "def objective_fun2(x, deaths, population):\n",
    "    #S, I, R, D = run_sird(population, x[0, 0], x[0, 1], x[0, 2], len(cases) - 1)\n",
    "    S, I, R, D = run_sird(population, x[0,0], x[0,1], len(deaths) - 1)\n",
    "    result = error_of_sim(deaths, D)\n",
    "    return result"
   ]
  },
  {
   "cell_type": "markdown",
   "metadata": {},
   "source": [
    "# INSTALLING AND RUNNING PSO ON EVERY COUNTY WITH 20+ days of COVID19"
   ]
  },
  {
   "cell_type": "code",
   "execution_count": 8,
   "metadata": {
    "colab": {},
    "colab_type": "code",
    "id": "mZiOqrR4vhfD"
   },
   "outputs": [
    {
     "name": "stdout",
     "output_type": "stream",
     "text": [
      "Requirement already satisfied: pyswarms in /Users/alexseto/opt/anaconda3/lib/python3.7/site-packages (1.1.0)\n",
      "Requirement already satisfied: tqdm in /Users/alexseto/opt/anaconda3/lib/python3.7/site-packages (from pyswarms) (4.42.1)\n",
      "Requirement already satisfied: numpy in /Users/alexseto/opt/anaconda3/lib/python3.7/site-packages (from pyswarms) (1.18.1)\n",
      "Requirement already satisfied: matplotlib>=1.3.1 in /Users/alexseto/opt/anaconda3/lib/python3.7/site-packages (from pyswarms) (3.1.3)\n",
      "Requirement already satisfied: future in /Users/alexseto/opt/anaconda3/lib/python3.7/site-packages (from pyswarms) (0.18.2)\n",
      "Requirement already satisfied: scipy in /Users/alexseto/opt/anaconda3/lib/python3.7/site-packages (from pyswarms) (1.4.1)\n",
      "Requirement already satisfied: attrs in /Users/alexseto/opt/anaconda3/lib/python3.7/site-packages (from pyswarms) (19.3.0)\n",
      "Requirement already satisfied: python-dateutil>=2.1 in /Users/alexseto/opt/anaconda3/lib/python3.7/site-packages (from matplotlib>=1.3.1->pyswarms) (2.8.1)\n",
      "Requirement already satisfied: kiwisolver>=1.0.1 in /Users/alexseto/opt/anaconda3/lib/python3.7/site-packages (from matplotlib>=1.3.1->pyswarms) (1.1.0)\n",
      "Requirement already satisfied: cycler>=0.10 in /Users/alexseto/opt/anaconda3/lib/python3.7/site-packages (from matplotlib>=1.3.1->pyswarms) (0.10.0)\n",
      "Requirement already satisfied: pyparsing!=2.0.4,!=2.1.2,!=2.1.6,>=2.0.1 in /Users/alexseto/opt/anaconda3/lib/python3.7/site-packages (from matplotlib>=1.3.1->pyswarms) (2.4.6)\n",
      "Requirement already satisfied: six>=1.5 in /Users/alexseto/opt/anaconda3/lib/python3.7/site-packages (from python-dateutil>=2.1->matplotlib>=1.3.1->pyswarms) (1.14.0)\n",
      "Requirement already satisfied: setuptools in /Users/alexseto/opt/anaconda3/lib/python3.7/site-packages (from kiwisolver>=1.0.1->matplotlib>=1.3.1->pyswarms) (46.0.0.post20200309)\n",
      "Note: you may need to restart the kernel to use updated packages.\n"
     ]
    }
   ],
   "source": [
    "pip install pyswarms"
   ]
  },
  {
   "cell_type": "code",
   "execution_count": 12,
   "metadata": {
    "colab": {
     "base_uri": "https://localhost:8080/",
     "height": 156
    },
    "colab_type": "code",
    "id": "oNFdLsOT7CcX",
    "outputId": "b2709813-3896-403e-a702-dd047129d1fa"
   },
   "outputs": [
    {
     "name": "stderr",
     "output_type": "stream",
     "text": [
      "2020-05-05 21:17:57,238 - pyswarms.single.global_best - INFO - Optimize for 1000 iters with {'c1': 0.5, 'c2': 0.3, 'w': 0.9}\n"
     ]
    },
    {
     "name": "stdout",
     "output_type": "stream",
     "text": [
      "0\n"
     ]
    },
    {
     "name": "stderr",
     "output_type": "stream",
     "text": [
      "2020-05-05 21:17:59,496 - pyswarms.single.global_best - INFO - Optimization finished | best cost: 663.710104706106, best pos: [2.13342366e-07 7.69964658e-03]\n",
      "2020-05-05 21:17:59,512 - pyswarms.single.global_best - INFO - Optimize for 1000 iters with {'c1': 0.5, 'c2': 0.3, 'w': 0.9}\n"
     ]
    },
    {
     "name": "stdout",
     "output_type": "stream",
     "text": [
      "1\n"
     ]
    },
    {
     "name": "stderr",
     "output_type": "stream",
     "text": [
      "2020-05-05 21:18:01,705 - pyswarms.single.global_best - INFO - Optimization finished | best cost: 430.2115523194222, best pos: [2.03344189e-07 1.91891527e-02]\n",
      "2020-05-05 21:18:01,720 - pyswarms.single.global_best - INFO - Optimize for 1000 iters with {'c1': 0.5, 'c2': 0.3, 'w': 0.9}\n"
     ]
    },
    {
     "name": "stdout",
     "output_type": "stream",
     "text": [
      "2\n"
     ]
    },
    {
     "name": "stderr",
     "output_type": "stream",
     "text": [
      "2020-05-05 21:18:03,964 - pyswarms.single.global_best - INFO - Optimization finished | best cost: 1298.3569595433814, best pos: [7.76617499e-06 2.83863837e-05]\n",
      "2020-05-05 21:18:03,980 - pyswarms.single.global_best - INFO - Optimize for 1000 iters with {'c1': 0.5, 'c2': 0.3, 'w': 0.9}\n"
     ]
    },
    {
     "name": "stdout",
     "output_type": "stream",
     "text": [
      "3\n"
     ]
    },
    {
     "name": "stderr",
     "output_type": "stream",
     "text": [
      "2020-05-05 21:18:06,300 - pyswarms.single.global_best - INFO - Optimization finished | best cost: 180662.0193701985, best pos: [6.33559399e-06 5.22083464e-05]\n",
      "2020-05-05 21:18:06,314 - pyswarms.single.global_best - INFO - Optimize for 1000 iters with {'c1': 0.5, 'c2': 0.3, 'w': 0.9}\n"
     ]
    },
    {
     "name": "stdout",
     "output_type": "stream",
     "text": [
      "4\n"
     ]
    },
    {
     "name": "stderr",
     "output_type": "stream",
     "text": [
      "2020-05-05 21:18:08,689 - pyswarms.single.global_best - INFO - Optimization finished | best cost: 1488.4296909724926, best pos: [8.19542889e-06 6.93949090e-05]\n",
      "2020-05-05 21:18:08,701 - pyswarms.single.global_best - INFO - Optimize for 1000 iters with {'c1': 0.5, 'c2': 0.3, 'w': 0.9}\n"
     ]
    },
    {
     "name": "stdout",
     "output_type": "stream",
     "text": [
      "5\n"
     ]
    },
    {
     "name": "stderr",
     "output_type": "stream",
     "text": [
      "2020-05-05 21:18:11,071 - pyswarms.single.global_best - INFO - Optimization finished | best cost: 263.4971760921631, best pos: [2.22553154e-08 4.62040763e-02]\n",
      "2020-05-05 21:18:11,084 - pyswarms.single.global_best - INFO - Optimize for 1000 iters with {'c1': 0.5, 'c2': 0.3, 'w': 0.9}\n"
     ]
    },
    {
     "name": "stdout",
     "output_type": "stream",
     "text": [
      "6\n"
     ]
    },
    {
     "name": "stderr",
     "output_type": "stream",
     "text": [
      "2020-05-05 21:18:13,408 - pyswarms.single.global_best - INFO - Optimization finished | best cost: 177734.8130775468, best pos: [3.53544602e-06 6.62885056e-05]\n",
      "2020-05-05 21:18:13,423 - pyswarms.single.global_best - INFO - Optimize for 1000 iters with {'c1': 0.5, 'c2': 0.3, 'w': 0.9}\n"
     ]
    },
    {
     "name": "stdout",
     "output_type": "stream",
     "text": [
      "7\n"
     ]
    },
    {
     "name": "stderr",
     "output_type": "stream",
     "text": [
      "2020-05-05 21:18:15,897 - pyswarms.single.global_best - INFO - Optimization finished | best cost: 800.0256300291568, best pos: [2.00563581e-07 4.09525773e-02]\n",
      "2020-05-05 21:18:15,908 - pyswarms.single.global_best - INFO - Optimize for 1000 iters with {'c1': 0.5, 'c2': 0.3, 'w': 0.9}\n"
     ]
    },
    {
     "name": "stdout",
     "output_type": "stream",
     "text": [
      "8\n"
     ]
    },
    {
     "name": "stderr",
     "output_type": "stream",
     "text": [
      "2020-05-05 21:18:18,244 - pyswarms.single.global_best - INFO - Optimization finished | best cost: 377466.7564900094, best pos: [9.17282050e-06 1.65741907e-04]\n",
      "2020-05-05 21:18:18,255 - pyswarms.single.global_best - INFO - Optimize for 1000 iters with {'c1': 0.5, 'c2': 0.3, 'w': 0.9}\n"
     ]
    },
    {
     "name": "stdout",
     "output_type": "stream",
     "text": [
      "9\n"
     ]
    },
    {
     "name": "stderr",
     "output_type": "stream",
     "text": [
      "2020-05-05 21:18:20,818 - pyswarms.single.global_best - INFO - Optimization finished | best cost: 813000.7814765415, best pos: [8.05031789e-06 1.20695025e-04]\n",
      "2020-05-05 21:18:20,834 - pyswarms.single.global_best - INFO - Optimize for 1000 iters with {'c1': 0.5, 'c2': 0.3, 'w': 0.9}\n"
     ]
    },
    {
     "name": "stdout",
     "output_type": "stream",
     "text": [
      "10\n"
     ]
    },
    {
     "name": "stderr",
     "output_type": "stream",
     "text": [
      "2020-05-05 21:18:23,305 - pyswarms.single.global_best - INFO - Optimization finished | best cost: 1629.0241798959196, best pos: [1.23699571e-05 1.75905197e-05]\n",
      "2020-05-05 21:18:23,317 - pyswarms.single.global_best - INFO - Optimize for 1000 iters with {'c1': 0.5, 'c2': 0.3, 'w': 0.9}\n"
     ]
    },
    {
     "name": "stdout",
     "output_type": "stream",
     "text": [
      "11\n"
     ]
    },
    {
     "ename": "KeyboardInterrupt",
     "evalue": "",
     "output_type": "error",
     "traceback": [
      "\u001b[0;31m---------------------------------------------------------------------------\u001b[0m",
      "\u001b[0;31mKeyboardInterrupt\u001b[0m                         Traceback (most recent call last)",
      "\u001b[0;32m<ipython-input-12-758f5e206eff>\u001b[0m in \u001b[0;36m<module>\u001b[0;34m\u001b[0m\n\u001b[1;32m     27\u001b[0m \u001b[0;34m\u001b[0m\u001b[0m\n\u001b[1;32m     28\u001b[0m         \u001b[0;32mwith\u001b[0m \u001b[0mio\u001b[0m\u001b[0;34m.\u001b[0m\u001b[0mcapture_output\u001b[0m\u001b[0;34m(\u001b[0m\u001b[0;34m)\u001b[0m \u001b[0;32mas\u001b[0m \u001b[0mcaptured\u001b[0m\u001b[0;34m:\u001b[0m\u001b[0;34m\u001b[0m\u001b[0;34m\u001b[0m\u001b[0m\n\u001b[0;32m---> 29\u001b[0;31m             \u001b[0mcost\u001b[0m\u001b[0;34m,\u001b[0m \u001b[0mpos\u001b[0m \u001b[0;34m=\u001b[0m \u001b[0moptimizer\u001b[0m\u001b[0;34m.\u001b[0m\u001b[0moptimize\u001b[0m\u001b[0;34m(\u001b[0m\u001b[0mobjective_fun2\u001b[0m\u001b[0;34m,\u001b[0m \u001b[0;36m1000\u001b[0m\u001b[0;34m,\u001b[0m \u001b[0;34m**\u001b[0m\u001b[0mkwargs\u001b[0m\u001b[0;34m)\u001b[0m\u001b[0;34m\u001b[0m\u001b[0;34m\u001b[0m\u001b[0m\n\u001b[0m\u001b[1;32m     30\u001b[0m \u001b[0;34m\u001b[0m\u001b[0m\n\u001b[1;32m     31\u001b[0m         \u001b[0mpop_data\u001b[0m\u001b[0;34m.\u001b[0m\u001b[0mloc\u001b[0m\u001b[0;34m[\u001b[0m\u001b[0mpop_data\u001b[0m\u001b[0;34m.\u001b[0m\u001b[0mFIPS\u001b[0m \u001b[0;34m==\u001b[0m \u001b[0mfips\u001b[0m\u001b[0;34m,\u001b[0m \u001b[0;34m'beta'\u001b[0m\u001b[0;34m]\u001b[0m \u001b[0;34m=\u001b[0m \u001b[0mpos\u001b[0m\u001b[0;34m[\u001b[0m\u001b[0;36m0\u001b[0m\u001b[0;34m]\u001b[0m\u001b[0;34m\u001b[0m\u001b[0;34m\u001b[0m\u001b[0m\n",
      "\u001b[0;32m~/opt/anaconda3/lib/python3.7/site-packages/pyswarms/single/global_best.py\u001b[0m in \u001b[0;36moptimize\u001b[0;34m(self, objective_func, iters, n_processes, **kwargs)\u001b[0m\n\u001b[1;32m    210\u001b[0m             )\n\u001b[1;32m    211\u001b[0m             self.swarm.position = self.top.compute_position(\n\u001b[0;32m--> 212\u001b[0;31m                 \u001b[0mself\u001b[0m\u001b[0;34m.\u001b[0m\u001b[0mswarm\u001b[0m\u001b[0;34m,\u001b[0m \u001b[0mself\u001b[0m\u001b[0;34m.\u001b[0m\u001b[0mbounds\u001b[0m\u001b[0;34m,\u001b[0m \u001b[0mself\u001b[0m\u001b[0;34m.\u001b[0m\u001b[0mbh\u001b[0m\u001b[0;34m\u001b[0m\u001b[0;34m\u001b[0m\u001b[0m\n\u001b[0m\u001b[1;32m    213\u001b[0m             )\n\u001b[1;32m    214\u001b[0m         \u001b[0;31m# Obtain the final best_cost and the final best_position\u001b[0m\u001b[0;34m\u001b[0m\u001b[0;34m\u001b[0m\u001b[0;34m\u001b[0m\u001b[0m\n",
      "\u001b[0;32m~/opt/anaconda3/lib/python3.7/site-packages/pyswarms/backend/topology/star.py\u001b[0m in \u001b[0;36mcompute_position\u001b[0;34m(self, swarm, bounds, bh)\u001b[0m\n\u001b[1;32m    157\u001b[0m             \u001b[0mNew\u001b[0m \u001b[0mposition\u001b[0m\u001b[0;34m-\u001b[0m\u001b[0mmatrix\u001b[0m\u001b[0;34m\u001b[0m\u001b[0;34m\u001b[0m\u001b[0m\n\u001b[1;32m    158\u001b[0m         \"\"\"\n\u001b[0;32m--> 159\u001b[0;31m         \u001b[0;32mreturn\u001b[0m \u001b[0mops\u001b[0m\u001b[0;34m.\u001b[0m\u001b[0mcompute_position\u001b[0m\u001b[0;34m(\u001b[0m\u001b[0mswarm\u001b[0m\u001b[0;34m,\u001b[0m \u001b[0mbounds\u001b[0m\u001b[0;34m,\u001b[0m \u001b[0mbh\u001b[0m\u001b[0;34m)\u001b[0m\u001b[0;34m\u001b[0m\u001b[0;34m\u001b[0m\u001b[0m\n\u001b[0m",
      "\u001b[0;32m~/opt/anaconda3/lib/python3.7/site-packages/pyswarms/backend/operators.py\u001b[0m in \u001b[0;36mcompute_position\u001b[0;34m(swarm, bounds, bh)\u001b[0m\n\u001b[1;32m    199\u001b[0m \u001b[0;34m\u001b[0m\u001b[0m\n\u001b[1;32m    200\u001b[0m         \u001b[0;32mif\u001b[0m \u001b[0mbounds\u001b[0m \u001b[0;32mis\u001b[0m \u001b[0;32mnot\u001b[0m \u001b[0;32mNone\u001b[0m\u001b[0;34m:\u001b[0m\u001b[0;34m\u001b[0m\u001b[0;34m\u001b[0m\u001b[0m\n\u001b[0;32m--> 201\u001b[0;31m             \u001b[0mtemp_position\u001b[0m \u001b[0;34m=\u001b[0m \u001b[0mbh\u001b[0m\u001b[0;34m(\u001b[0m\u001b[0mtemp_position\u001b[0m\u001b[0;34m,\u001b[0m \u001b[0mbounds\u001b[0m\u001b[0;34m)\u001b[0m\u001b[0;34m\u001b[0m\u001b[0;34m\u001b[0m\u001b[0m\n\u001b[0m\u001b[1;32m    202\u001b[0m \u001b[0;34m\u001b[0m\u001b[0m\n\u001b[1;32m    203\u001b[0m         \u001b[0mposition\u001b[0m \u001b[0;34m=\u001b[0m \u001b[0mtemp_position\u001b[0m\u001b[0;34m\u001b[0m\u001b[0;34m\u001b[0m\u001b[0m\n",
      "\u001b[0;32m~/opt/anaconda3/lib/python3.7/site-packages/pyswarms/backend/handlers.py\u001b[0m in \u001b[0;36m__call__\u001b[0;34m(self, position, bounds, **kwargs)\u001b[0m\n\u001b[1;32m    129\u001b[0m         \u001b[0;32mtry\u001b[0m\u001b[0;34m:\u001b[0m\u001b[0;34m\u001b[0m\u001b[0;34m\u001b[0m\u001b[0m\n\u001b[1;32m    130\u001b[0m             new_position = self.strategies[self.strategy](\n\u001b[0;32m--> 131\u001b[0;31m                 \u001b[0mposition\u001b[0m\u001b[0;34m,\u001b[0m \u001b[0mbounds\u001b[0m\u001b[0;34m,\u001b[0m \u001b[0;34m**\u001b[0m\u001b[0mkwargs\u001b[0m\u001b[0;34m\u001b[0m\u001b[0;34m\u001b[0m\u001b[0m\n\u001b[0m\u001b[1;32m    132\u001b[0m             )\n\u001b[1;32m    133\u001b[0m         \u001b[0;32mexcept\u001b[0m \u001b[0mKeyError\u001b[0m\u001b[0;34m:\u001b[0m\u001b[0;34m\u001b[0m\u001b[0;34m\u001b[0m\u001b[0m\n",
      "\u001b[0;32m~/opt/anaconda3/lib/python3.7/site-packages/pyswarms/backend/handlers.py\u001b[0m in \u001b[0;36mperiodic\u001b[0;34m(self, position, bounds, **kwargs)\u001b[0m\n\u001b[1;32m    372\u001b[0m         )\n\u001b[1;32m    373\u001b[0m         bound_d = np.tile(\n\u001b[0;32m--> 374\u001b[0;31m             \u001b[0mnp\u001b[0m\u001b[0;34m.\u001b[0m\u001b[0mabs\u001b[0m\u001b[0;34m(\u001b[0m\u001b[0mnp\u001b[0m\u001b[0;34m.\u001b[0m\u001b[0marray\u001b[0m\u001b[0;34m(\u001b[0m\u001b[0mub\u001b[0m\u001b[0;34m)\u001b[0m \u001b[0;34m-\u001b[0m \u001b[0mnp\u001b[0m\u001b[0;34m.\u001b[0m\u001b[0marray\u001b[0m\u001b[0;34m(\u001b[0m\u001b[0mlb\u001b[0m\u001b[0;34m)\u001b[0m\u001b[0;34m)\u001b[0m\u001b[0;34m,\u001b[0m \u001b[0;34m(\u001b[0m\u001b[0mposition\u001b[0m\u001b[0;34m.\u001b[0m\u001b[0mshape\u001b[0m\u001b[0;34m[\u001b[0m\u001b[0;36m0\u001b[0m\u001b[0;34m]\u001b[0m\u001b[0;34m,\u001b[0m \u001b[0;36m1\u001b[0m\u001b[0;34m)\u001b[0m\u001b[0;34m\u001b[0m\u001b[0;34m\u001b[0m\u001b[0m\n\u001b[0m\u001b[1;32m    375\u001b[0m         )\n\u001b[1;32m    376\u001b[0m         \u001b[0mub\u001b[0m \u001b[0;34m=\u001b[0m \u001b[0mnp\u001b[0m\u001b[0;34m.\u001b[0m\u001b[0mtile\u001b[0m\u001b[0;34m(\u001b[0m\u001b[0mub\u001b[0m\u001b[0;34m,\u001b[0m \u001b[0;34m(\u001b[0m\u001b[0mposition\u001b[0m\u001b[0;34m.\u001b[0m\u001b[0mshape\u001b[0m\u001b[0;34m[\u001b[0m\u001b[0;36m0\u001b[0m\u001b[0;34m]\u001b[0m\u001b[0;34m,\u001b[0m \u001b[0;36m1\u001b[0m\u001b[0;34m)\u001b[0m\u001b[0;34m)\u001b[0m\u001b[0;34m\u001b[0m\u001b[0;34m\u001b[0m\u001b[0m\n",
      "\u001b[0;31mKeyboardInterrupt\u001b[0m: "
     ]
    }
   ],
   "source": [
    "from IPython.utils import io\n",
    "from pyswarms.single.global_best import GlobalBestPSO\n",
    "unique_fips = pd.Series(covid19['fips']).dropna()\n",
    "count = 0\n",
    "\n",
    "x_max = np.array([.00002, .05])\n",
    "x_min = np.zeros(2)\n",
    "bounds = (x_min, x_max)\n",
    "\n",
    "options = {'c1': 0.5, 'c2': 0.3, 'w': 0.9}\n",
    "pop_data[\"beta\"] = np.nan\n",
    "pop_data[\"f\"] = np.nan\n",
    "pop_data[\"cost\"] = np.nan\n",
    "for fips in unique_fips: \n",
    "      print(count)\n",
    "      optimizer = GlobalBestPSO(n_particles=50, dimensions=2, options=options, bounds=bounds)\n",
    "      population = pop_data[pop_data.FIPS == fips]['POPESTIMATE2019']\n",
    "      #print(population.iloc[0], \" \", fips)\n",
    "      if(len(population) == 0):\n",
    "        continue\n",
    "      else:\n",
    "        temp_col = covid19[covid19.fips == fips]\n",
    "        if (len(temp_col) < 20):\n",
    "            continue\n",
    "    \n",
    "        kwargs = {\"deaths\":temp_col[\"deaths\"], \"population\":population.iloc[0]} #\"cases\":temp_col['cases']}\n",
    "\n",
    "        with io.capture_output() as captured:\n",
    "            cost, pos = optimizer.optimize(objective_fun2, 1000, **kwargs)\n",
    "        \n",
    "        pop_data.loc[pop_data.FIPS == fips, 'beta'] = pos[0]\n",
    "        pop_data.loc[pop_data.FIPS == fips, 'f'] = pos[1]\n",
    "        pop_data.loc[pop_data.FIPS == fips, 'cost'] = cost \n",
    "        count += 1                                                                                                                                      "
   ]
  },
  {
   "cell_type": "markdown",
   "metadata": {},
   "source": [
    "## EXPORT"
   ]
  },
  {
   "cell_type": "code",
   "execution_count": null,
   "metadata": {},
   "outputs": [],
   "source": [
    "pop_data.dropna().to_csv(\"1B_data/data_1b_bf.csv\")"
   ]
  },
  {
   "cell_type": "markdown",
   "metadata": {},
   "source": [
    "# GRAPHS FOR FIRST 100 counties"
   ]
  },
  {
   "cell_type": "code",
   "execution_count": null,
   "metadata": {},
   "outputs": [],
   "source": [
    "for index, row in pop_data.dropna().head(n=100).iterrows():\n",
    "    temp_col = covid19[covid19.fips == row['FIPS']]\n",
    "    county, state = temp_col[\"county\"].iloc[0], temp_col[\"state\"].iloc[0]\n",
    "    title = county + \", \" + state\n",
    "    \n",
    "    S, I, R, D = run_sird(row['POPESTIMATE2019'], row[\"beta\"], row['f'], len(temp_col) - 1)\n",
    "    t = np.linspace(0, len(temp_col)-1, len(temp_col))\n",
    "    \n",
    "\n",
    "    fig = plt.figure(facecolor='w')\n",
    "    ax = fig.add_subplot(111, axisbelow=True)\n",
    "    ax.plot(t, I, 'g', alpha=0.5, lw=2, label='Simulated Infected')\n",
    "    ax.plot(t, D, 'o', alpha=0.5, lw=2, label='Simulated Deaths')\n",
    "\n",
    "\n",
    "    ax.plot(t, temp_col['cases'] * (100/82.1), label = 'True Cases')\n",
    "    ax.plot(t, temp_col['deaths'], 'b', label = 'True Deaths')\n",
    "\n",
    "    ax.set_xlabel('Time /days')\n",
    "    ax.set_ylabel('Number')\n",
    "    ax.set_title(title)\n",
    "    ax.yaxis.set_tick_params(length=0)\n",
    "    ax.xaxis.set_tick_params(length=0)\n",
    "\n",
    "    ax.grid(b=True, which='major', c='w', lw=2, ls='-')\n",
    "    legend = ax.legend()\n",
    "    legend.get_frame().set_alpha(0.5)\n",
    "    for spine in ('top', 'right', 'bottom', 'left'):\n",
    "        ax.spines[spine].set_visible(False)\n",
    "    plt.show()"
   ]
  }
 ],
 "metadata": {
  "colab": {
   "collapsed_sections": [],
   "name": "FINAL PROJECT.ipynb",
   "provenance": [],
   "toc_visible": true
  },
  "kernelspec": {
   "display_name": "Python 3",
   "language": "python",
   "name": "python3"
  },
  "language_info": {
   "codemirror_mode": {
    "name": "ipython",
    "version": 3
   },
   "file_extension": ".py",
   "mimetype": "text/x-python",
   "name": "python",
   "nbconvert_exporter": "python",
   "pygments_lexer": "ipython3",
   "version": "3.7.6"
  }
 },
 "nbformat": 4,
 "nbformat_minor": 1
}
