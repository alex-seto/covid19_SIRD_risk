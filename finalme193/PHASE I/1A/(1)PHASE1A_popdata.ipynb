{
 "cells": [
  {
   "cell_type": "markdown",
   "metadata": {},
   "source": [
    "# Phase 1A, Population Data"
   ]
  },
  {
   "cell_type": "markdown",
   "metadata": {},
   "source": [
    "This notebook uses the population estimate data to produce a dataset of FIPS codes and 2019 population estimates. This data is exported as a csv called phase1_popdata.csv"
   ]
  },
  {
   "cell_type": "code",
   "execution_count": 3,
   "metadata": {},
   "outputs": [],
   "source": [
    "import numpy as np\n",
    "import pandas as pd\n",
    "import matplotlib.pyplot as plt"
   ]
  },
  {
   "cell_type": "markdown",
   "metadata": {},
   "source": [
    "Importing the data such that the 2019 Population Estimate Data -> pop_data"
   ]
  },
  {
   "cell_type": "code",
   "execution_count": 4,
   "metadata": {},
   "outputs": [],
   "source": [
    "pop_data = pd.read_csv('1A_data/co-est2019-alldata.csv', encoding =\"ISO-8859-1\")"
   ]
  },
  {
   "cell_type": "markdown",
   "metadata": {},
   "source": [
    "Creating a function to convert the state and area codes to FIPS codes to be merged on later"
   ]
  },
  {
   "cell_type": "code",
   "execution_count": 5,
   "metadata": {},
   "outputs": [],
   "source": [
    "def make_fips(state, county):\n",
    "  if (state < 10):\n",
    "    state_temp = \"0\"+ str(state)\n",
    "  else: \n",
    "    state_temp = str(state)\n",
    "  if (county < 10):\n",
    "    county_temp = \"00\" + str(county)\n",
    "  elif (county <= 99):\n",
    "    county_temp = \"0\" + str(county)\n",
    "  else:\n",
    "    county_temp = str(county)\n",
    "  temp = state_temp + county_temp\n",
    "  return int(temp)"
   ]
  },
  {
   "cell_type": "markdown",
   "metadata": {},
   "source": [
    "Create FIPS column using function above"
   ]
  },
  {
   "cell_type": "code",
   "execution_count": 7,
   "metadata": {},
   "outputs": [],
   "source": [
    "pop_data['FIPS'] = [make_fips(int(row['STATE']), int(row['COUNTY'])) for index, row in pop_data.iterrows()]"
   ]
  },
  {
   "cell_type": "markdown",
   "metadata": {},
   "source": [
    "Refine and convert FIPS to float for comparison"
   ]
  },
  {
   "cell_type": "code",
   "execution_count": 9,
   "metadata": {},
   "outputs": [],
   "source": [
    "pop_data = pop_data[['POPESTIMATE2019', 'FIPS']]\n",
    "pop_data['FIPS'] = [float(fips) for fips in pop_data['FIPS']]"
   ]
  },
  {
   "cell_type": "markdown",
   "metadata": {},
   "source": [
    "## EXPORT"
   ]
  },
  {
   "cell_type": "code",
   "execution_count": 10,
   "metadata": {},
   "outputs": [],
   "source": [
    "pop_data.to_csv('1A_DATA/phase1_popdata.csv')"
   ]
  }
 ],
 "metadata": {
  "kernelspec": {
   "display_name": "Python 3",
   "language": "python",
   "name": "python3"
  },
  "language_info": {
   "codemirror_mode": {
    "name": "ipython",
    "version": 3
   },
   "file_extension": ".py",
   "mimetype": "text/x-python",
   "name": "python",
   "nbconvert_exporter": "python",
   "pygments_lexer": "ipython3",
   "version": "3.7.6"
  }
 },
 "nbformat": 4,
 "nbformat_minor": 4
}
