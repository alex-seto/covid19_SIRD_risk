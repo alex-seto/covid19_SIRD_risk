{
 "cells": [
  {
   "cell_type": "markdown",
   "metadata": {
    "colab_type": "text",
    "id": "IiELDfFwfxMI"
   },
   "source": [
    "# Phase 1A, Run SI for Optimal Beta values"
   ]
  },
  {
   "cell_type": "markdown",
   "metadata": {
    "colab_type": "text",
    "id": "4_YTh5Mrh0zQ"
   },
   "source": [
    "NYT COVID-19 data found here:\n",
    "https://github.com/nytimes/covid-19-data\n",
    "\n",
    "Population data found here:\n",
    "https://www.ers.usda.gov/data-products/county-level-data-sets/download-data/"
   ]
  },
  {
   "cell_type": "code",
   "execution_count": 1,
   "metadata": {
    "colab": {},
    "colab_type": "code",
    "id": "XjNIg6Db63vD"
   },
   "outputs": [],
   "source": [
    "import numpy as np\n",
    "import pandas as pd\n",
    "import matplotlib.pyplot as plt"
   ]
  },
  {
   "cell_type": "markdown",
   "metadata": {},
   "source": [
    "Importing the NYT time series data into a dataframe covid19"
   ]
  },
  {
   "cell_type": "code",
   "execution_count": 11,
   "metadata": {
    "colab": {
     "base_uri": "https://localhost:8080/",
     "height": 204
    },
    "colab_type": "code",
    "id": "n0eOm7C8fvzP",
    "outputId": "b12df103-3ce6-4e62-df96-cf1c2427f84f"
   },
   "outputs": [],
   "source": [
    "covid19 = pd.read_csv('1A_DATA/us-counties.csv')"
   ]
  },
  {
   "cell_type": "markdown",
   "metadata": {},
   "source": [
    "Importing the population data as pop_data"
   ]
  },
  {
   "cell_type": "code",
   "execution_count": 13,
   "metadata": {
    "colab": {},
    "colab_type": "code",
    "id": "nn6CDqmwA6x4"
   },
   "outputs": [],
   "source": [
    "pop_data = pd.read_csv('1A_data/phase1_popdata.csv', encoding = 'ISO-8859-1')"
   ]
  },
  {
   "cell_type": "markdown",
   "metadata": {},
   "source": [
    "# Defining the SIR simulation (SIRD with f = 0, r = 0)"
   ]
  },
  {
   "cell_type": "code",
   "execution_count": 5,
   "metadata": {},
   "outputs": [],
   "source": [
    "def run_sir(population, b, numdays):   \n",
    "\n",
    "  # values \n",
    "  D0 = 0\n",
    "  I0 = 1\n",
    "  R0 = 0\n",
    "  S0 = population - I0 - D0 \n",
    "\n",
    "  g = 1 / 14\n",
    "  f = 0\n",
    "\n",
    "# A grid of time points (in days)\n",
    "  t = np.linspace(0, numdays, numdays + 1)\n",
    "\n",
    "  S = S0\n",
    "  I = I0\n",
    "  R = R0\n",
    "  D = D0\n",
    "\n",
    "  S_list = [S0]\n",
    "  I_list = [I0]\n",
    "  R_list = [R0]\n",
    "  D_list = [D0]\n",
    "\n",
    "  for time in t[1:]:\n",
    "      dSdt = (-1.0 * b * S * I)\n",
    "      dIdt = (b * S * I) - (g * I)\n",
    "      dDdt = g * f * I\n",
    "      dRdt = ((1-f) * g * I)\n",
    "      if (S + dSdt < 0):\n",
    "            dSdt = -1 * S\n",
    "            dIdt = S - (g * I)\n",
    "\n",
    "      S = S + dSdt\n",
    "      I = I + dIdt\n",
    "      R = R + dRdt\n",
    "      D = D + dDdt\n",
    "      S_list.append(S)\n",
    "      I_list.append(I)\n",
    "      R_list.append(R)\n",
    "      D_list.append(D)\n",
    "  return S_list, I_list, R_list, D_list"
   ]
  },
  {
   "cell_type": "markdown",
   "metadata": {},
   "source": [
    "# Defining the Objective Function for Optimization"
   ]
  },
  {
   "cell_type": "code",
   "execution_count": 6,
   "metadata": {
    "colab": {},
    "colab_type": "code",
    "id": "uidVJJlwtOlY"
   },
   "outputs": [],
   "source": [
    "from sklearn.metrics import mean_squared_error\n",
    "\n",
    "# cases is the real data and I_test is the predicted time series data based on the SIRD model\n",
    "\n",
    "def error_of_sim_1(cases, I_test):\n",
    "    original = pd.DataFrame()\n",
    "    original['cases'] = cases\n",
    "    original['i_test'] = I_test\n",
    "    return mean_squared_error(original['cases'], original['i_test'])\n"
   ]
  },
  {
   "cell_type": "code",
   "execution_count": 17,
   "metadata": {
    "colab": {},
    "colab_type": "code",
    "id": "6R8_M71bvBTl"
   },
   "outputs": [],
   "source": [
    "## Takes x = [initial beta]\n",
    "##       args = (cases, population])\n",
    "\n",
    "def objective_fun_1(x, *args):\n",
    "    S, I, R, D = run_si(args[1], x, len(args[0]) - 1)\n",
    "    result = error_of_sim_1(args[0], I)\n",
    "    return result\n"
   ]
  },
  {
   "cell_type": "markdown",
   "metadata": {},
   "source": [
    "unique_fips is a list of unique fips codes"
   ]
  },
  {
   "cell_type": "code",
   "execution_count": 14,
   "metadata": {
    "colab": {},
    "colab_type": "code",
    "id": "Jmn4xZsc0-oz"
   },
   "outputs": [],
   "source": [
    "unique_fips = covid19['fips'].unique()\n",
    "unique_fips = [float(fips) for fips in unique_fips]\n",
    "unique_fips = pd.Series(unique_fips).dropna()"
   ]
  },
  {
   "cell_type": "markdown",
   "metadata": {
    "colab": {
     "base_uri": "https://localhost:8080/",
     "height": 1000
    },
    "colab_type": "code",
    "id": "zG-uhYqi1EYA",
    "outputId": "cba05103-b183-4ae2-e907-da2717fee1f1"
   },
   "source": [
    "# Here we optimize the SI model's cost function for each county (MSE for each day in number of cases summed up) and record the beta values."
   ]
  },
  {
   "cell_type": "code",
   "execution_count": 18,
   "metadata": {
    "colab": {
     "base_uri": "https://localhost:8080/",
     "height": 156
    },
    "colab_type": "code",
    "id": "oNFdLsOT7CcX",
    "outputId": "b2709813-3896-403e-a702-dd047129d1fa"
   },
   "outputs": [],
   "source": [
    "from scipy.optimize import minimize\n",
    "\n",
    "pop_data[\"beta\"] = np.nan\n",
    "\n",
    "for fips in unique_fips: \n",
    "      population = pop_data[pop_data.FIPS == fips]['POPESTIMATE2019']\n",
    "      if(len(population) == 0):\n",
    "        continue\n",
    "      else:\n",
    "        temp_col = covid19[covid19.fips == fips]\n",
    "        if (len(temp_col) < 20):\n",
    "            continue\n",
    "        if(temp_col['deaths'].tail(n = 1).iloc[0] < 25):\n",
    "            continue\n",
    "        args = (temp_col['cases'], population.iloc[0])\n",
    "        result = minimize(objective_fun_1, [.000002], args, method = 'Powell')\n",
    "        pop_data.loc[pop_data.FIPS == fips, 'beta'] = result.x                                                                                                                                \n",
    "      \n",
    "      "
   ]
  },
  {
   "cell_type": "markdown",
   "metadata": {},
   "source": [
    "Drop bad data and look at the head (note, we excluded counties with less than 20 days of Covid and less than 25 deaths)"
   ]
  },
  {
   "cell_type": "code",
   "execution_count": 19,
   "metadata": {},
   "outputs": [
    {
     "data": {
      "text/html": [
       "<div>\n",
       "<style scoped>\n",
       "    .dataframe tbody tr th:only-of-type {\n",
       "        vertical-align: middle;\n",
       "    }\n",
       "\n",
       "    .dataframe tbody tr th {\n",
       "        vertical-align: top;\n",
       "    }\n",
       "\n",
       "    .dataframe thead th {\n",
       "        text-align: right;\n",
       "    }\n",
       "</style>\n",
       "<table border=\"1\" class=\"dataframe\">\n",
       "  <thead>\n",
       "    <tr style=\"text-align: right;\">\n",
       "      <th></th>\n",
       "      <th>Unnamed: 0</th>\n",
       "      <th>POPESTIMATE2019</th>\n",
       "      <th>FIPS</th>\n",
       "      <th>beta</th>\n",
       "    </tr>\n",
       "  </thead>\n",
       "  <tbody>\n",
       "    <tr>\n",
       "      <th>37</th>\n",
       "      <td>37</td>\n",
       "      <td>658573</td>\n",
       "      <td>1073.0</td>\n",
       "      <td>3.582561e-07</td>\n",
       "    </tr>\n",
       "    <tr>\n",
       "      <th>41</th>\n",
       "      <td>41</td>\n",
       "      <td>164542</td>\n",
       "      <td>1081.0</td>\n",
       "      <td>1.353718e-06</td>\n",
       "    </tr>\n",
       "    <tr>\n",
       "      <th>49</th>\n",
       "      <td>49</td>\n",
       "      <td>413210</td>\n",
       "      <td>1097.0</td>\n",
       "      <td>6.400933e-07</td>\n",
       "    </tr>\n",
       "    <tr>\n",
       "      <th>101</th>\n",
       "      <td>101</td>\n",
       "      <td>143476</td>\n",
       "      <td>4005.0</td>\n",
       "      <td>1.660785e-06</td>\n",
       "    </tr>\n",
       "    <tr>\n",
       "      <th>106</th>\n",
       "      <td>106</td>\n",
       "      <td>4485414</td>\n",
       "      <td>4013.0</td>\n",
       "      <td>4.999949e-01</td>\n",
       "    </tr>\n",
       "  </tbody>\n",
       "</table>\n",
       "</div>"
      ],
      "text/plain": [
       "     Unnamed: 0  POPESTIMATE2019    FIPS          beta\n",
       "37           37           658573  1073.0  3.582561e-07\n",
       "41           41           164542  1081.0  1.353718e-06\n",
       "49           49           413210  1097.0  6.400933e-07\n",
       "101         101           143476  4005.0  1.660785e-06\n",
       "106         106          4485414  4013.0  4.999949e-01"
      ]
     },
     "execution_count": 19,
     "metadata": {},
     "output_type": "execute_result"
    }
   ],
   "source": [
    "pop_data = pop_data.dropna()\n",
    "pop_data.head()"
   ]
  },
  {
   "cell_type": "markdown",
   "metadata": {},
   "source": [
    "Looking at first few graphs"
   ]
  },
  {
   "cell_type": "code",
   "execution_count": 20,
   "metadata": {},
   "outputs": [
    {
     "data": {
      "image/png": "[encoded data removed]",
      "text/plain": [
       "<Figure size 432x288 with 1 Axes>"
      ]
     },
     "metadata": {},
     "output_type": "display_data"
    },
    {
     "data": {
      "image/png": "[encoded data removed]",
      "text/plain": [
       "<Figure size 432x288 with 1 Axes>"
      ]
     },
     "metadata": {},
     "output_type": "display_data"
    }
   ],
   "source": [
    "for index, row in pop_data.dropna().head(n = 2).iterrows():\n",
    "    temp_col = covid19[covid19.fips == row['FIPS']]\n",
    "    S, I, R, D = run_si(row['POPESTIMATE2019'], row[\"beta\"], len(temp_col) - 1)\n",
    "    t = np.linspace(0, len(temp_col)-1, len(temp_col))\n",
    "\n",
    "    fig = plt.figure(facecolor='w')\n",
    "    ax = fig.add_subplot(111, axisbelow=True)\n",
    "    ax.plot(t, I, 'g', alpha=0.5, lw=2, label='Simulated Infected')\n",
    "    ax.plot(t, D, 'o', alpha=0.5, lw=2, label='Simulated Deaths')\n",
    "\n",
    "\n",
    "    ax.plot(t, temp_col['cases'] * (100/82.1), label = 'True Cases')\n",
    "    ax.plot(t, temp_col['deaths'], 'b', label = 'True Deaths')\n",
    "\n",
    "    ax.set_xlabel('Time /days')\n",
    "    ax.set_ylabel('Number')\n",
    "    ax.set_title('FIPS: ' + str(row['FIPS']))\n",
    "\n",
    "    ax.yaxis.set_tick_params(length=0)\n",
    "    ax.xaxis.set_tick_params(length=0)\n",
    "\n",
    "    ax.grid(b=True, which='major', c='w', lw=2, ls='-')\n",
    "    legend = ax.legend()\n",
    "    legend.get_frame().set_alpha(0.5)\n",
    "    for spine in ('top', 'right', 'bottom', 'left'):\n",
    "        ax.spines[spine].set_visible(False)\n",
    "    plt.show()"
   ]
  },
  {
   "cell_type": "markdown",
   "metadata": {},
   "source": [
    "# EXPORT as phase1_betavalues.csv"
   ]
  },
  {
   "cell_type": "code",
   "execution_count": 21,
   "metadata": {},
   "outputs": [],
   "source": [
    "pop_data.to_csv('1A_data/phase1_betavalues.csv')"
   ]
  }
 ],
 "metadata": {
  "colab": {
   "collapsed_sections": [],
   "name": "FINAL PROJECT.ipynb",
   "provenance": [],
   "toc_visible": true
  },
  "kernelspec": {
   "display_name": "Python 3",
   "language": "python",
   "name": "python3"
  },
  "language_info": {
   "codemirror_mode": {
    "name": "ipython",
    "version": 3
   },
   "file_extension": ".py",
   "mimetype": "text/x-python",
   "name": "python",
   "nbconvert_exporter": "python",
   "pygments_lexer": "ipython3",
   "version": "3.7.6"
  }
 },
 "nbformat": 4,
 "nbformat_minor": 1
}
